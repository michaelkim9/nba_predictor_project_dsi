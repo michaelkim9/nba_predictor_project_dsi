{
 "cells": [
  {
   "cell_type": "markdown",
   "metadata": {},
   "source": [
    "![logo](https://raw.githubusercontent.com/michaelkim9/nba_predictor_project/master/other_assets/open_court_logo2.png)\n",
    "# Open Court\n",
    "## The Glassdoor of the National Basketball Association (NBA)\n",
    "\n",
    "### Problem\n",
    "\n",
    "The National Basketball Association (NBA) is widely considered to be the premier men's professional basketball league in the world and features some of the most well-known athletes. As is such, NBA players are the world's best paid athletes by average annual salary per player. And their increasing salaries have led to salary caps which limit teams' total salaries. This limit is subject to a complex system of rules and exceptions; therefore this is considered a \"soft\" cap."
   ]
  },
  {
   "cell_type": "markdown",
   "metadata": {},
   "source": [
    "The plot below shows the historical salary cap values of the NBA. The NBA players’ salary cap was instituted in the 1984-1985 season. That year the salary cap was 3.6 million and the average player salary was 300,000. By 2013, 66 percent of NBA players earned more than 1 million or more. By the 2012-2013 season, the salary cap increased to 58 million and the average NBA player salary was 5.1 million. In the upcoming 2017-2018 NBA season, the salary cap is almost at the 100 million mark with the highest salary at nearly 35 million and average at 6.5 million.\n",
    "\n",
    "<img src=\"other_assets/nba_salary_cap.png\" width=\"800\">"
   ]
  },
  {
   "cell_type": "markdown",
   "metadata": {},
   "source": [
    "The plot below shows salaries used by each team for the upcoming 2017-2018 season. As you can see, more than half of all NBA teams surpassed the designated salary cap showing that it's a \"soft\" cap with many exceptions. The vertical line indicates the salary cap for the season.\n",
    "\n",
    "<img src=\"other_assets/current_sal.png\" width=\"800\">"
   ]
  },
  {
   "cell_type": "markdown",
   "metadata": {},
   "source": [
    "The escalation of NBA player salaries has not only been explosive, but it has also created a large earnings gap between players. The box plot below shows the spread of teams' salaries and the spread per player (teams with the largest total salary on the left and lowest on right). As seen below, there are many outliers well beyond the median (as represented by the ticks). For example, the Golden State Warriors are paying Stephen Curry a whopping 34,682,550 (the highest tick mark) this season which is greatly higher than Warrior's teammate Jason Thompson at just 945,126.\n",
    "\n",
    "<img src=\"other_assets/sal_spread.png\" width=\"800\">\n",
    "\n",
    "Here is a diagram to explain how to interpret the box plots.\n",
    "\n",
    "![box_plot](https://raw.githubusercontent.com/michaelkim9/nba_predictor_project/master/other_assets/box-plot-explained.gif)"
   ]
  },
  {
   "cell_type": "markdown",
   "metadata": {},
   "source": [
    "The issue of salaries has been a huge topic of controversy in the NBA and has led to several lockouts over these labor disputes. There were NBA lockouts in the 1995, 1996, 1998 and 2011 NBA seasons and the main issue in each of them was related to players' salaries. Owners felt players were overpaid, and players felt as if their earning power was restricted. And the topic of NBA salaries continues to be a hot topic of discussion today.\n",
    "\n",
    "Below is a histogram that shows the salary distrbutions based on whether a player was an all-star or not. A player's all-star status is usually attributed to their performence on the court. There are other factors as well but by in large, it's based on how well they are performing. So we could see that there is probably a relationship between on-court performence and salaries\n",
    "\n",
    "<img src=\"other_assets/all_star_status_salaries.png\" width=\"600\">"
   ]
  },
  {
   "cell_type": "markdown",
   "metadata": {},
   "source": [
    "## Proposal\n",
    "\n",
    "In an effort to get an idea of what players are worth, judging strictly on quantative data, I am building a model to estimate player salaries based on on-the-court performance. The project is called \"Open Court\".\n",
    "\n",
    "Determining factors that influence NBA owners to pay players is of great importance in light of these financial constraints and dispute over salaries. When owners put out offers and sign contracts with players, how would they know that they're money is being put to good use? How do they know if they might be paying a player too much? Or if they aren't paying their players enough for their performence and thus risk losing them when their contracts end? Also, sports agents who represent their athlete clients can make a stronger case for higher salaries on their client's contract if they have hard evidence based on statistics showing their worth.\n",
    "\n",
    "The purpose of developing \"Open Court\" is to help settle disputes regarding NBA players' salaries and to identify the variables that are most likely to contribute to a player's salary. Unlike coaches who are mainly hired and paid based on a single metric (wins), players are hired and paid based on indvidual performance, which can be measured by their on-the-court metrics. Though there is a lot of literature regarding what determines NBA salaries, there is very little statistical backing to their claims.\n",
    "\n",
    "The development of Open Court is based on the hypothesis that a player's performance variables such as points per game, field goals, etc. would be significant contributors to player salaries. The dependent variable for this project was NBA player salaries and the independent variables were the offensive and defensive statistical categories.\n",
    "\n",
    "In the rest of the job market, one's skill-set and the amount of experience they have using those skills determines salaries and with that information, applications like Glassdoor and Indeed can accurately predict how much a person would make for any given job. The plot below was determined with such information by Indeed.\n",
    "\n",
    "<img src=\"other_assets/averagesalary.png\" width=\"300\">\n",
    "\n",
    "Likewise with the NBA, I believe there are certain performance determinants that will offer an accurate prediction for salary. Perhaps teams put greater premium on points per game than they do on total rebounds per game. These kind of questions are what I hope to explore and answer."
   ]
  },
  {
   "cell_type": "markdown",
   "metadata": {},
   "source": [
    "## Data Webscraping\n",
    "\n",
    "Unlike Glassdoor or Indeed, NBA salary information is available online, as well as player statistics. Though there are many datasets different people acquired and put out on the web, none of them were substantial enough to develop a model on. Therefore, I had to scrape basketball sites in order to get the data for this project.\n",
    "\n",
    "Using BeautifulSoup, I successfully scraped data from the sports sites and loaded them into tables within a PostGres database. The code for my web scraping was developed into Python scripts stored in their respective folders. I scraped multiple web sites to gather draft data, salary data, NBA player statistics and NCAA college statistics. All the Python scripts are included in this GitHub repository in their respective folders.\n",
    "\n",
    "The versions for Python and the libraries used for webscraping are below. The following versions of Python and packages will be needed to run the Python scripts.\n",
    "\n",
    "    Python version: sys.version_info(major=3, minor=5, micro=2, releaselevel='final', serial=0)\n",
    "    BeautifulSoup version: 4.5.3\n",
    "    Pandas version: 0.19.2\n",
    "    Numpy version: 1.12.1\n",
    "    RegEx version: 2.2.1\n",
    "\n",
    "The entire set up was engineered using Docker. All relevant Docker files and yml files are included in the repository.\n",
    "\n",
    "A diagram of the environment that I was working with is below.\n",
    "\n",
    "![setup](https://raw.githubusercontent.com/michaelkim9/nba_predictor_project/master/other_assets/docker_postgres_setup.PNG)"
   ]
  },
  {
   "cell_type": "markdown",
   "metadata": {},
   "source": [
    "## The Data\n",
    "\n",
    "The dependent variable for this study was NBA player salaries and the independent variables were the offensive and defensive statistical categories.\n",
    "\n",
    "We are going to use the salaries and statistics of 486 NBA players from the 2016-2017 season. I decided to only use the statistics from the 2016-2017 season as they would be most reflective of the current salary rates. The salary cap for the NBA has been increasing at a rate faster than inflation and so it wouldn't make for a good model to bring in statistics from multiple years. I thought about bringing in \"year\" as a feature so that the model would give weight to the year, as well as other features. But I wanted to stick to just statistical features to predicta single salary outcome."
   ]
  },
  {
   "cell_type": "markdown",
   "metadata": {
    "collapsed": true
   },
   "source": [
    "#### Data Dictionary\n",
    "- **Player**: Player Name -- TEXT\n",
    "- **Position**: Position - TEXT\n",
    "- **Shooting_Hand**: Hand that player shoots with -- TEXT\n",
    "- **Height_inches**: Height of player -- INTEGER\n",
    "- **Weight_lbs**: Weight of player -- FLOAT\n",
    "- **College**: College that player played at -- TEXT\n",
    "- **Draft_Year**: Year player was drafted -- INTEGER\n",
    "- **Draft_Position**: Rank in draft -- INTEGER\n",
    "- **Season_Count**: Number of seasons played in NBA - INTEGER\n",
    "- **Age**: Age of Player at the start of February 1st of that season -- INTEGER\n",
    "- **G**: Games -- INTEGER\n",
    "- **GS**: Games Started -- INTEGER\n",
    "- **MP**: Minutes Played -- FLOAT\n",
    "- **FG**: Field Goals -- FLOAT\n",
    "- **FGA**: Field Goal Attempts -- FLOAT\n",
    "- **FG_Perc**: Field Goal Percentage -- FLOAT\n",
    "- **Three_P**: 3-Point Field Goals -- FLOAT\n",
    "- **Three_Att**: 3-Point Field Goal Attempts -- FLOAT\n",
    "- **Three_Perc**: 3-Point Field Goal Percentage -- FLOAT\n",
    "- **Two_P**: 2-Point Field Goals -- FLOAT\n",
    "- **Two_Att**: 2-Point Field Goal Attempts -- FLOAT\n",
    "- **Two_Perc**: 2-Point Field Goal Percentage -- FLOAT\n",
    "- **EFG_Perc**: Effective Field Goal Percentage -- FLOAT <br>\n",
    "     This statistic adjusts for the fact that a 3-point field goal is worth one more point than a 2-point field goal\n",
    "- **FT**: Free Throws -- FLOAT\n",
    "- **FTA**: Free Throw Attempts -- FLOAT\n",
    "- **FT_Perc**: Free Throw Percentage -- FLOAT\n",
    "- **ORB**: Offensive Rebounds -- FLOAT\n",
    "- **DRB**: Defensive Rebounds  -- FLOAT\n",
    "- **TRB**: Total Rebounds -- FLOAT\n",
    "- **AST**: Assists -- FLOAT\n",
    "- **STL**: Steals -- FLOAT\n",
    "- **BLK**: Blocks -- FLOAT\n",
    "- **All_Star**: All Star status, 1 if they were all star at some point in career, 0 if not -- INTEGER\n",
    "- **TOV**: Turnovers -- FLOAT\n",
    "- **PF**: Personal Fouls --- FLOAT\n",
    "- **PTS**: Points -- FLOAT\n",
    "- **PER**: Player Efficiency Rating - FLOAT <br>\n",
    "     A measure of per-minute production standardized such that the league average is 15\n",
    "- **WS**: Win Shares -- FLOAT <br>\n",
    "     An estimate of the number of wins contributed by a player\n",
    "- **Salary**: Salary for the 2016-2017 season -- FLOAT\n",
    "\n",
    "More detailed data dictionary of all tables within PostGres database at this link:<br>\n",
    "[Data Dictionary](https://github.com/michaelkim9/nba_predictor_project/blob/master/data_description.txt)"
   ]
  },
  {
   "cell_type": "markdown",
   "metadata": {
    "collapsed": true
   },
   "source": [
    "## Data Cleaning\n",
    "\n",
    "With data that is scraped from the web, the data is messy and needs to be cleaned.\n",
    "\n",
    "- Get rid of a couple of rows (that were header rows) that contain only NoneType values\n",
    "- Rename some of the columns\n",
    "- Change to proper data types\n",
    "- Deal with missing values\n",
    "    \n",
    "To see more detailed steps taken for data cleaning, please refer to the following notebooks.\n",
    "\n",
    "[Data Cleaning for Draft Table](https://github.com/michaelkim9/nba_predictor_project/blob/master/Part_1_webscraping_draft_table_beautifulsoup.ipynb)<br>\n",
    "[Data Cleaning for Data Set](https://github.com/michaelkim9/nba_predictor_project/blob/master/Part_4_predictive_model.ipynb)\n",
    "\n",
    "Additional data cleaning that was important for the model are below.\n",
    "\n",
    "-----------------"
   ]
  },
  {
   "cell_type": "markdown",
   "metadata": {
    "collapsed": true
   },
   "source": [
    "#### Dropping features not related to on-court performance\n",
    "There are some features that are not related to on-court performence. There might be indicators that are related to past performence, like draft_position, which is related to how well a person did in college. But our model is more concerned about actual on-court performence at the professional level. And there are other fields that are simply not reflective of performence at all, such as shooting_hand, height and weight. So we are going to drop the following columns.\n",
    "\n",
    "##### Drop these fields\n",
    "- Player\n",
    "- Position\n",
    "- Shooting_Hand\n",
    "- Height_inches\n",
    "- Weight_lbs\n",
    "- College\n",
    "- Draft_Year\n",
    "- Draft_Position\n",
    "- All_star\n",
    "\n",
    "-------------------"
   ]
  },
  {
   "cell_type": "markdown",
   "metadata": {
    "collapsed": true
   },
   "source": [
    "#### Dropping Player Efficiency Rating (PER)\n",
    "\n",
    "PER is an advanced statistical measure of per-minute production standardized such that the league average is 15. It combines various factors but there is a major flaw with it. \n",
    "\n",
    "PER largely measures offensive performance. Two of the defensive statistics it incorporates—blocks and steals (which was not tracked as an official stat until 1973)—can produce a distorted picture of a player's value and that PER is not a reliable measure of a player's defensive acumen.\n",
    "\n",
    "Therefore, it's a statistic that will add onto offensive statistics and may even \"double\" count it without including defensive statistical factors.\n",
    "\n",
    "Because of this unbalance weight towards offensive statistics, we are going to drop this column.\n",
    "\n",
    "Below is a diagram of PER and salaries. If PER would be a good determinant of salary, then it should follow a similar distribution as the salaries. But from the joint plot below, the distributions seem to be different.\n",
    "\n",
    "<img src=\"other_assets/sal_per.png\" width=\"550\">"
   ]
  },
  {
   "cell_type": "markdown",
   "metadata": {
    "collapsed": true
   },
   "source": [
    "Another advanced statistic similar to that of PER is Win-Shares (WS). As stated in the data dictionary, it is an estimate of the number of wins contributed by a player. And this statistic is more comprehensive than PER so we're going to keep this statistic in the data set. As you can see from the joint plot below, it follows a similar distribution as salaries.\n",
    "\n",
    "<img src=\"other_assets/sal_ws.png\" width=\"550\">\n",
    "\n",
    "------------------------------------------------------------------------------------------------------"
   ]
  },
  {
   "cell_type": "markdown",
   "metadata": {
    "collapsed": true
   },
   "source": [
    "#### Excluding rookies\n",
    "\n",
    "Season count was a key indicator of whether a player was in their rookie contract. Age didn't really give any kind of relevant information because there could be someone who is older but in their rookie contract. Season count as more explanatory power as it shows which players are actually in their rookie contracts.\n",
    "\n",
    "Below is a swarm plot of salaries by age.\n",
    "\n",
    "<img src=\"other_assets/player_sal_age.png\" width=\"700\">\n",
    "\n",
    "The same swarm plot is below only it shows salaries by the amount of seasons in the NBA.\n",
    "\n",
    "<img src=\"other_assets/player_sal_season_count.png\" width=\"700\">\n",
    "\n",
    "For rookies, their salaries are constrainted by the rookie salary cap which is typically in force for three years. Thus the swarm plot in our EDA notebook showed that there was a large swarm of lower salaries at season counts of 1-3. Therefore, we are going to exclude rookies from this data set. If a rookie or a second year player performed well statistically, they would not be compensated accordingly because they are \"locked\" into a contract that my not reward them for their excellent play. And the whole premise of our data model is determining salary based on how well a player performs. \n",
    "\n",
    "##### Drop these rows\n",
    "- Any rookies which mean any rows that have a player with a season count lower than 3\n",
    "    - 172 rookies\n",
    "    - 486 total players\n",
    "    - 314 players in our final data set\n",
    "    \n",
    "##### Drop these fields\n",
    "- Age\n",
    "- Season_count\n",
    "\n",
    "------------------------------------------------------------"
   ]
  },
  {
   "cell_type": "markdown",
   "metadata": {
    "collapsed": true
   },
   "source": [
    "#### Per Game Statistics\n",
    "\n",
    "Currently, the data has total numbers for the entire season. For example, the feature \"PTS\" includes all the points that the player made for all of 2016-2017. However, this might not be entirely reflective of an individual player's performance compared to someone else's because the total number doesn't compensate for any lost statistics due to injuries, suspensions or any other reason for why a player couldn't play. Therefore, the columns that are indicated as totals are going to be divided by the total number of games that they played so that the statistics would be \"per game.\" And then, going to drop the columns that are related to the number of games or minutes that a player played as they aren't statistics related to player performance.\n",
    "\n",
    "The columns that are percentages aren't affected because the percentage will remain the same whether it's a total or per-game statistic.\n",
    "\n",
    "##### Adjust these fields to per game\n",
    "- FG: Field Goals\n",
    "- FGA: Field Goal Attempts \n",
    "- Three_P: 3-Point Field Goals \n",
    "- Three_Att: 3-Point Field Goal Attempts \n",
    "- Two_P: 2-Point Field Goals \n",
    "- Two_Att: 2-Point Field Goal Attempts \n",
    "- FT: Free Throws \n",
    "- FTA: Free Throw Attempts \n",
    "- ORB: Offensive Rebounds \n",
    "- DRB: Defensive Rebounds \n",
    "- TRB: Total Rebounds \n",
    "- AST: Assists \n",
    "- STL: Steals \n",
    "- BLK: Blocks \n",
    "- TOV: Turnovers \n",
    "- PF: Personal Fouls \n",
    "- PTS: Points \n",
    "\n",
    "##### Drop these fields\n",
    "- G: Games\n",
    "- GS: Games Start\n",
    "- MP: Minutes Played\n",
    "\n",
    "-------------"
   ]
  },
  {
   "cell_type": "markdown",
   "metadata": {},
   "source": [
    "#### Dropping columns that have high correlation with others\n",
    "\n",
    "The features (stats) in our data set need to be independent from one another. From the heatmap diagram below, we notice that there are stats columns that are highly (or even directly) correlated with one another. This will affect our model as it'll be unevenly weighting certain statistics and not others because it's appearing more than once in any given column. For example, field goals, field goal attempts and field goal percentage are directly correlated with one another. Or 2 points, 3 points, free throws are all contributing to the statistic points (which is a sum of all of these). So there are certain features that would be getting counted more than once and unevenly favoring those features.\n",
    "\n",
    "Heatmap to show correlations of the remaining fields below\n",
    "\n",
    "<img src=\"other_assets/stats_heat_map_a.png\" width=\"800\">\n",
    "\n",
    "From the heatmap above, we could identify the stats columns that are highly correlated with one another and drop those columns. So we are going to drop the following.\n",
    "\n",
    "- fg\n",
    "- fga\n",
    "- fg_percent\n",
    "- three_p\n",
    "- three_att\n",
    "- three_perc\n",
    "- two_p\n",
    "- two_att\n",
    "- two_perc\n",
    "- fta\n",
    "- orb\n",
    "- drb\n",
    "- ft \n",
    "\n",
    "Highly correlated features are removed as shown in the heat map below.\n",
    "\n",
    "<img src=\"other_assets/stats_heat_map_b.png\" width=\"800\">\n",
    "\n",
    "-------"
   ]
  },
  {
   "cell_type": "markdown",
   "metadata": {},
   "source": [
    "## Machine Learning Models\n",
    "\n",
    "For detailed steps, hyperparameter selection and code, please refer to the following notebook:<br>\n",
    "\n",
    "[Predictive Models](https://github.com/michaelkim9/nba_predictor_project/blob/master/Part_4_predictive_model.ipynb)\n",
    "\n",
    "Below, I provide a brief summary of all the models that I used.\n",
    "\n",
    "#### Linear Model with Regularization\n",
    "Now we are going to build out a predictive model - starting with linear regression with regularization. Regularization is a method for adding additional constraints or penalty to a model, with the goal of preventing overfitting and improving generalization.\n",
    "\n",
    "#### Scaling and Train-Test-Split\n",
    "Statistics are going to vary in scale as there are some statistics that are just going to be inherently higher values than others. For example, typically players will have more free throws than they do blocks. But the magnitude (or the number of free throws versus blocks) shouldn't determine the predictive power of the end result (salary). So I am going to scale the data so that the statistical variables are standardized by scaling to unit variance.\n",
    "\n",
    "#### More complex linear model: ElasticNet\n",
    "The R2 for the linear model was around 42% for the test data. The basic linear regression model may not be the best model given that basketball statistics and a player's performance have many variables and there are other factors that contribute to player's salaries. Building out a more complex model that includes these other factors could greatly improve the accuracy of our prediction. \n",
    "\n",
    "But after building out this model, the ElasticNet didn't do that much better than the linear model. Actually, the basic linear model seems to have better scores and less error.\n",
    "\n",
    "#### Random Forest Regressor\n",
    "Tried some more models - maybe the linear model isn't the best model for this data set. Tried using a Random Forest which should have a lot of benefits for our data. It's a non-parametric model - so it can predict variables that are non-normally distributed - which is our data as salaries do not follow a normal distribution. \n",
    "\n",
    "Random Forests are a combination of tree predictors where each tree depends on the values of a random vector sampled independently with the same distribution for all trees in the forest. The basic principle is that a group of “weak learners” can come together to form a “strong learner”. Random Forests are a wonderful tool for making predictions considering they do not overfit because of the law of large numbers.\n",
    "\n",
    "After I implemented this model, the R2 score was lower and error was higher than the linear model. Though salaries follow a non-normal distribution and have a non-linear pattern, the same could not be said probably of the actual set of features (statistics), therfore the lower score than the previous linear models\n",
    "\n",
    "#### Extra Trees Regressor\n",
    "Tried another another tree method - Extra Trees. Seeing if this may produce better results than Random Forest. Looking at the results though, since this has a very high training score but significantly lower test score, the model seems to be overfitting. And so this model wouldn't be good for this data set. Also, the R2 is lower than that of the linear model.\n",
    "\n",
    "#### Support Vector Regressor\n",
    "Tried using a Support Vector Regressor to see if this may produce better results. But like the other models, it had a lower R2 score and higher error than the linear model.\n",
    "\n",
    "#### Neural Net Regression\n",
    "Developed a Neural Network model with Keras to see how well that would perform. As Neural Nets are primarily used for classification problems, I wasn't able to find a way to calculate the R2 score. Was able to find a way to use it for regression and calculate mean squared error. But comparing mean squared error to the linear model, it seems that the linear model still performed the best.\n",
    "\n",
    "--------"
   ]
  },
  {
   "cell_type": "markdown",
   "metadata": {},
   "source": [
    "## Model Evaluation\n",
    "\n",
    "Below is a summary of the scores for the models that I developed.\n",
    "\n",
    "<img src=\"other_assets/model_summary.png\" width=\"650\">\n",
    "\n",
    "Of all the models, it looks like the linear model with lasso regularization performed the best with the best R2 score, as well as the least amount of error.\n",
    "\n",
    "The linear model gave an R2 value of 0.4185. In other words, roughly 42 percent of the variation in salaries is explained in the model by the variation in the statistical fields used.\n",
    "\n",
    "From this, we could conclude that NBA players' salaries are not fully determined by their on-court performence. About 68% of variation in salaries is explained by other variables that aren't a part of this model. Probably things like how marketable a player is, fan appeal, etc. There is more that goes into a player's salary than just their on-court performence but 42% is still enough that players definitely need to pay attention to their play.\n",
    "\n",
    "--------"
   ]
  },
  {
   "cell_type": "markdown",
   "metadata": {},
   "source": [
    "## Feature Importances\n",
    "\n",
    "Taking the best model we have, the linear model with lasso regularization, we can analyze feature importances by examining the coefficients. When all features are on the same scale, the most important features should have the highest coefficients in the model, while features uncorrelated with the target variable should have coefficient values close to zero.\n",
    "\n",
    "Points per game, total rebounds per game and assists per game proved to be the most statistically significant variables in determining player salary, however, turnovers was also a significant contributor with a high negative coefficient. All of these make sense: the more points, rebounds and assists and fewer turnovers a player has, the higher salary they'll have.\n",
    "\n",
    "<img src=\"other_assets/coefs.png\" width=\"750\">"
   ]
  },
  {
   "cell_type": "markdown",
   "metadata": {},
   "source": [
    "### P-Values for statistical significance\n",
    "\n",
    "We could see if a particular feature is statistically significant or not by looking at the p-values. Below I use the statsmodel library to produce an Ordinary Least Squares Regression report to quickly calculate p-values for all our statistical features.\n",
    "\n",
    "In this case, the null hypothesis would be that there is no relationship between the particular feature and the target variable (salary). So the null hypothesis would assume that on-court-performence statistics are independent of salary. Therefore, if any particular feature has a low p-value, specifically lower than 0.05, then we say that particular feature is statistically significant and we reject the null hypothesis and conclude that there is a relationship between that feature and the target.\n",
    "\n",
    "Examining the p-values, we see that points, total rebounds, assists, effective field goal percentage, turnovers and win-shares have p-values lower than 0.05.\n",
    "\n",
    "But of these, the features that had the highest coefficient and the smallest p-values were:\n",
    "- points\n",
    "- total rebounds\n",
    "- assists\n",
    "\n",
    "So it would benefit a player if they focused their play on improving these particular statistics.\n",
    "\n",
    "<img src=\"other_assets/p_value.png\" width=\"700\">\n",
    "\n",
    "###### Same stats model report in sklearn model\n",
    "\n",
    "The stats model package uses ordinary least squares which is a little different from the linear model with lasso regularization that we built in sklearn. To ensure that we are remaining consistent in the model that we are evaluating, I built out the same report using our linear with lasso regularization model below using numpy, pandas and sklearn. Also, the stats model bases all of its predictions on the entire data set - it fits on the whole data set and then predicts on that same data set. For the purposes of our model, we want to know the p-values of our test data set as that is how we are scoring our model. \n",
    "\n",
    "The test data is significantly smaller than the entire data set and it contains 79 players, which isn't a whole lot. So the results of this second report may differ from the stats model report\n",
    "\n",
    "<img src=\"other_assets/p_value_sklearn.png\" width=\"450\">\n",
    "\n",
    "-------"
   ]
  },
  {
   "cell_type": "markdown",
   "metadata": {},
   "source": [
    "# High Variance - Effect of Outliers\n",
    "\n",
    "In the model, the actual salaries vary quite a bit from the predicted, both on the downside and the upside. What this says is that if this model is a base for what players are worth (which it is not, completely, due to fan appeal and other non-quantitative data), then some players are vastly overpaid while others are vastly underpaid. The histogram below shows the skew of salaries which is characteristic of all teams across the NBA. The plot below is distribution of salaries across the entire league.\n",
    "\n",
    "<img src=\"other_assets/player_sal_distribution.png\" width=\"600\">\n",
    "\n",
    "With this kind of distribution, it is inevitable that there are outliers on the higher end. To show this, I'm going to take out just one outlier and examine the R2 results. In the 2016-2017 season, the highest paid player was Lebron James with the only salary over $30 million. Outliers like Lebron James definitely affect the model so let's take a look at a linear model without Lebron James in it.\n",
    "\n",
    "The boxplot below shows the one highest outlier which is Lebron James.\n",
    "\n",
    "<img src=\"other_assets/outliers_boxplot.png\" width=\"180\">\n",
    "\n",
    "### Linear Model Without Lebron\n",
    "\n",
    "The R2 score of this linear model is 0.468. In other words, 46.8 percent of the variation in salaries of NBA players other than Lebron is explained by the variations in the statistical categories used in this model.\n",
    "\n",
    "Previously, with Lebron, the R2 score was 0.4185. So taking Lebron out helped our model by increasing explanatory power by about 5 percent.\n",
    "\n",
    "<img src=\"other_assets/model_summary_lebron.png\" width=\"300\">\n",
    "\n",
    "With each team in the NBA, there are outliers like Lebron. And there is probably various reasons that they are outliers - but most likely their higher salaries are attributed to factors outside of the on-court performence statistics.\n",
    "\n",
    "------------"
   ]
  },
  {
   "cell_type": "markdown",
   "metadata": {
    "collapsed": true
   },
   "source": [
    "# Residual Analysis\n",
    "\n",
    "Residuals are estimates of experimental error obtained by subtracting the observed responses from the predicted responses.\n",
    "\n",
    "The predicted response is calculated from the chosen model, after all the unknown model parameters have been estimated from the experimental data. Carefully looking at residuals can tell us whether our assumptions are reasonable and our choice of model is appropriate.\n",
    "\n",
    "Residuals can be thought of as elements of variation unexplained by the fitted model. Since this is a form of error, the same general assumptions apply to the group of residuals that we typically use for errors in general: one expects them to be (roughly) normal and (approximately) independently distributed with a mean of 0 and some constant variance.\n",
    "\n",
    "The distribution of residuals for the linear model is plotted below:\n",
    "\n",
    "<img src=\"other_assets/residuals.png\" width=\"600\">\n",
    "\n",
    "From this histogram above, we see that the residuals follow a normal distribution. This incidates that our model is an accurate model in predicting salaries, though there is room for improvement. More than 50% of all the residuals are centered around 0 which means that most of the predictions are getting close to the true salary value with tails on each side. Our data set was relatively small to work with (limited by the number of NBA players for the 2016-2017 season). But given a larger dataset to train on, we will probably see the distribution of residuals with smaller tails on each end.\n",
    "\n",
    "-------"
   ]
  },
  {
   "cell_type": "markdown",
   "metadata": {},
   "source": [
    "# Limitations\n",
    "\n",
    "The main limitation to developing this application is that only quantitative data was used. There are other intangibles that we can't account for in this model such as fan appeal, player's prone to injuries, or player's personality, leadership and impact on team morale. However, the model does highlight some trends and clearly shows that data can be used to determine NBA salaries. But these kind's of limitations are something that anyone faces in the normal job market. Applications like Glassdoor and Indeed predict salaries based on hard skills that are determined to be in greater demand. However, their models are limited too in that they are not able to capture intangible factors like a person's soft skills, leadership ability, team fit, business acumen, etc. But such applications are still useful tools that both employers and job-seekers utilize as it gives useful information on expected salaries given a certain type of skill-set. Likewise, Open Court functions as a similar tool for NBA team owners, athletes and their agents.\n",
    "\n",
    "<img src=\"other_assets/fan_appeal.jpg\" width=\"400\">\n",
    "\n",
    "Another limitation is that this model doesn't account for players who signed long-term contracts well before the 2016-2017 season. Therefore, their salary rate is determined by a prior season of play and isn't fully captured by just the 2016-2017 season alone. For the purposes of this model and project, I am attempted to just predict the 2016-2017 salaries based soley on basketball statistics from that season. \n",
    "\n",
    "------"
   ]
  },
  {
   "cell_type": "markdown",
   "metadata": {
    "collapsed": true
   },
   "source": [
    "# Conclusion\n",
    "\n",
    "It is possible to create a useful model for predicting the salaries of NBA players based solely on their statistical performance in anyone year. Using data from the 2016-2017 season, I created a model which stands to explain how much players get paid according to their performance.\n",
    "\n",
    "Also, another reason we created this model was to identify the variables that were most likely to contribute to NBA player salaries. We found that points and rebounds were the two main contributors to player salary. In other words, not only is it beneficial that a player have a high scoring average, but he must also be good at getting boards on both offense and defense. Assists and turnovers were also significant. Assists allows players to contribute to the overall points of the team and so it looks like teams are willing to pay a premium on assists also. And players who have an excessive amount of turnovers give their oppoenents more opportunities to score and thus becomes a liability to the team, therefore we saw a high negative coefficient for turnovers.\n",
    "\n",
    "In all, players do not get paid according to their performance on the court only. A variety of other factors come into play, such as fan appeal and who represents them as an agent. Some team's management bodies tend to pay more, too. With that said, though, one can still produce a reasonably accurate statistical model predicting salary based solely on on-the-court performance, measured quantitatively.\n",
    "\n",
    "------"
   ]
  },
  {
   "cell_type": "markdown",
   "metadata": {},
   "source": [
    "# Stretch Goals\n",
    "There is much more I wanted to do with this project but didn't get a chance to.\n",
    "- Build a web application where players can get an estimate for salary by inputting their stats.\n",
    "- Develop a model for rookie salaries - project \"DraftMe\"\n",
    "    - Rookies' salaries are determined by their position in the draft. And so we would need to develop a model that predicts where they'll be picked in the draft based on their performance before the NBA (which is their college statistics). I started the process of scraping college statistics but haven't build out a model yet to predict draft position.\n",
    "    - Once we know draft position, then there are already salary estimates for each position in the draft. And so rookies, even in their first 3 seasons in the NBA, won't be compensated based on their performance in the NBA but more prior to entering professional basketball."
   ]
  }
 ],
 "metadata": {
  "kernelspec": {
   "display_name": "Python 3",
   "language": "python",
   "name": "python3"
  },
  "language_info": {
   "codemirror_mode": {
    "name": "ipython",
    "version": 3
   },
   "file_extension": ".py",
   "mimetype": "text/x-python",
   "name": "python",
   "nbconvert_exporter": "python",
   "pygments_lexer": "ipython3",
   "version": "3.5.2"
  }
 },
 "nbformat": 4,
 "nbformat_minor": 2
}
