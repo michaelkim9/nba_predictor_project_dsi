{
 "cells": [
  {
   "cell_type": "code",
   "execution_count": 2,
   "metadata": {
    "collapsed": true
   },
   "outputs": [],
   "source": [
    "import pandas as pd\n",
    "import numpy as np\n",
    "import requests\n",
    "import string\n",
    "from bs4 import BeautifulSoup\n",
    "import re"
   ]
  },
  {
   "cell_type": "markdown",
   "metadata": {},
   "source": [
    "### NCAA player data\n",
    "\n",
    "I created a python script called ncaa_crawler that will generate a dataframe for all college basketball players' stats. The function used within the ncaa_crawler object is called \"generate_player_df\". The parameter is any lower-case letter and it'll generate a stats dataframe for all individuals that have a last name that starts with that letter. I developed this using BeautifulSoup which scrape data by extracting HTML patterns.\n",
    "\n",
    "Using that function below to generate dataframes for every letter of the alphabet. Doing this in sections as I'm concerned that doing a loop to iterate through the letters of the alphabet may break the kernel and would have to restart.\n",
    "\n",
    "The code below takes a really long time to run. Please do not run it if you do not want your kernel to get stuck for hours. I saved the csv's into the scraped_data folder so that we wouldn't need to wait for this to run again."
   ]
  },
  {
   "cell_type": "code",
   "execution_count": null,
   "metadata": {
    "collapsed": true
   },
   "outputs": [],
   "source": [
    "from ncaa_player import ncaa_crawler"
   ]
  },
  {
   "cell_type": "code",
   "execution_count": null,
   "metadata": {
    "collapsed": true,
    "scrolled": false
   },
   "outputs": [],
   "source": [
    "for letter in string.ascii_lowercase:\n",
    "    df = ncaa_crawler.generate_player_df('{}'.format(letter))\n",
    "    df.to_csv('scraped_data/ncaa_player_stats/{}_ncaa.csv'.format(letter), index=False)"
   ]
  },
  {
   "cell_type": "markdown",
   "metadata": {
    "collapsed": true
   },
   "source": [
    "### Load into dataframe\n",
    "\n",
    "Once all the scraping is done, performing some initial data cleaning before putting into PostGres database."
   ]
  },
  {
   "cell_type": "code",
   "execution_count": null,
   "metadata": {},
   "outputs": [],
   "source": [
    "sample_df = pd.read_csv('scraped_data/ncaa_player_stats/b_ncaa.csv'.format(letter))\n",
    "sample_df.head()"
   ]
  },
  {
   "cell_type": "code",
   "execution_count": null,
   "metadata": {},
   "outputs": [],
   "source": [
    "df = pd.DataFrame()\n",
    "for letter in string.ascii_lowercase:\n",
    "    df = pd.concat([df, pd.read_csv('scraped_data/ncaa_player_stats/{}_ncaa.csv'.format(letter))], axis=0, join='outer')"
   ]
  },
  {
   "cell_type": "code",
   "execution_count": null,
   "metadata": {
    "collapsed": true
   },
   "outputs": [],
   "source": [
    "df.sample(10)"
   ]
  },
  {
   "cell_type": "code",
   "execution_count": null,
   "metadata": {
    "collapsed": true
   },
   "outputs": [],
   "source": [
    "df.shape"
   ]
  },
  {
   "cell_type": "code",
   "execution_count": null,
   "metadata": {
    "collapsed": true
   },
   "outputs": [],
   "source": [
    "a_df = pd.read_csv('scraped_data/a_ncaa.csv')"
   ]
  },
  {
   "cell_type": "code",
   "execution_count": null,
   "metadata": {
    "collapsed": true
   },
   "outputs": [],
   "source": [
    "a_df.shape"
   ]
  },
  {
   "cell_type": "code",
   "execution_count": null,
   "metadata": {
    "collapsed": true
   },
   "outputs": [],
   "source": [
    "pd.concat([df,a_df],axis=0,join='outer')"
   ]
  },
  {
   "cell_type": "code",
   "execution_count": null,
   "metadata": {
    "collapsed": true
   },
   "outputs": [],
   "source": []
  },
  {
   "cell_type": "code",
   "execution_count": null,
   "metadata": {
    "collapsed": true
   },
   "outputs": [],
   "source": []
  },
  {
   "cell_type": "markdown",
   "metadata": {},
   "source": [
    "### NBA player data\n",
    "\n",
    "Using Python script to scrape all the player stats for NBA players."
   ]
  },
  {
   "cell_type": "code",
   "execution_count": null,
   "metadata": {
    "collapsed": true
   },
   "outputs": [],
   "source": [
    "from nba_player import nba_crawler"
   ]
  },
  {
   "cell_type": "code",
   "execution_count": null,
   "metadata": {
    "scrolled": false
   },
   "outputs": [],
   "source": [
    "for letter in string.ascii_lowercase:\n",
    "    if letter != 'x':\n",
    "        nba_df = nba_crawler.generate_nba_player_df('{}'.format(letter))\n",
    "        nba_df.to_csv('scraped_data/nba_player_stats/all_{}_nba_players.csv'.format(letter), index=False)\n",
    "    else:\n",
    "        pass"
   ]
  },
  {
   "cell_type": "code",
   "execution_count": null,
   "metadata": {
    "collapsed": true
   },
   "outputs": [],
   "source": []
  },
  {
   "cell_type": "code",
   "execution_count": null,
   "metadata": {
    "collapsed": true
   },
   "outputs": [],
   "source": []
  },
  {
   "cell_type": "code",
   "execution_count": null,
   "metadata": {
    "collapsed": true
   },
   "outputs": [],
   "source": []
  },
  {
   "cell_type": "code",
   "execution_count": null,
   "metadata": {
    "collapsed": true
   },
   "outputs": [],
   "source": []
  },
  {
   "cell_type": "markdown",
   "metadata": {},
   "source": [
    "### 2016 NBA player data\n",
    "\n",
    "Using Python script to scrape all the player stats for NBA players only for the 2016 season."
   ]
  },
  {
   "cell_type": "code",
   "execution_count": null,
   "metadata": {
    "collapsed": true
   },
   "outputs": [],
   "source": [
    "from nba_player import nba_2016_crawler"
   ]
  },
  {
   "cell_type": "code",
   "execution_count": null,
   "metadata": {
    "scrolled": false
   },
   "outputs": [],
   "source": [
    "for letter in string.ascii_lowercase:\n",
    "    if letter != 'x':\n",
    "        nba_2016_df = nba_2016_crawler.generate_2016_nba_player_df('{}'.format(letter))\n",
    "        nba_2016_df.to_csv('scraped_data/nba_player_stats/current_{}_nba_players.csv'.format(letter), index=False)\n",
    "    else:\n",
    "        pass"
   ]
  },
  {
   "cell_type": "code",
   "execution_count": null,
   "metadata": {
    "collapsed": true
   },
   "outputs": [],
   "source": []
  },
  {
   "cell_type": "code",
   "execution_count": null,
   "metadata": {
    "collapsed": true
   },
   "outputs": [],
   "source": []
  },
  {
   "cell_type": "code",
   "execution_count": null,
   "metadata": {
    "collapsed": true
   },
   "outputs": [],
   "source": []
  },
  {
   "cell_type": "code",
   "execution_count": 8,
   "metadata": {},
   "outputs": [
    {
     "data": {
      "text/html": [
       "<div>\n",
       "<table border=\"1\" class=\"dataframe\">\n",
       "  <thead>\n",
       "    <tr style=\"text-align: right;\">\n",
       "      <th></th>\n",
       "      <th>year</th>\n",
       "      <th>salary_cap</th>\n",
       "      <th>salary_cap_2015_worth</th>\n",
       "    </tr>\n",
       "  </thead>\n",
       "  <tbody>\n",
       "    <tr>\n",
       "      <th>0</th>\n",
       "      <td>1984-85</td>\n",
       "      <td>3600000</td>\n",
       "      <td>7934034.0</td>\n",
       "    </tr>\n",
       "    <tr>\n",
       "      <th>1</th>\n",
       "      <td>1985-86</td>\n",
       "      <td>4233000</td>\n",
       "      <td>9153509.0</td>\n",
       "    </tr>\n",
       "    <tr>\n",
       "      <th>2</th>\n",
       "      <td>1986-87</td>\n",
       "      <td>4945000</td>\n",
       "      <td>10317292.0</td>\n",
       "    </tr>\n",
       "    <tr>\n",
       "      <th>3</th>\n",
       "      <td>1987-88</td>\n",
       "      <td>6164000</td>\n",
       "      <td>12354015.0</td>\n",
       "    </tr>\n",
       "    <tr>\n",
       "      <th>4</th>\n",
       "      <td>1988-89</td>\n",
       "      <td>7232000</td>\n",
       "      <td>13829137.0</td>\n",
       "    </tr>\n",
       "  </tbody>\n",
       "</table>\n",
       "</div>"
      ],
      "text/plain": [
       "      year  salary_cap  salary_cap_2015_worth\n",
       "0  1984-85     3600000              7934034.0\n",
       "1  1985-86     4233000              9153509.0\n",
       "2  1986-87     4945000             10317292.0\n",
       "3  1987-88     6164000             12354015.0\n",
       "4  1988-89     7232000             13829137.0"
      ]
     },
     "execution_count": 8,
     "metadata": {},
     "output_type": "execute_result"
    }
   ],
   "source": [
    "salary = pd.read_csv('scraped_data/nba_salaries/nba_salary_cap_history.csv')\n",
    "salary.head()"
   ]
  },
  {
   "cell_type": "code",
   "execution_count": 9,
   "metadata": {},
   "outputs": [
    {
     "name": "stderr",
     "output_type": "stream",
     "text": [
      "/opt/conda/lib/python3.5/site-packages/IPython/core/interactiveshell.py:2698: DtypeWarning: Columns (0,1,2,3,4,5,6,7,8,9) have mixed types. Specify dtype option on import or set low_memory=False.\n",
      "  interactivity=interactivity, compiler=compiler, result=result)\n"
     ]
    },
    {
     "data": {
      "text/html": [
       "<div>\n",
       "<table border=\"1\" class=\"dataframe\">\n",
       "  <thead>\n",
       "    <tr style=\"text-align: right;\">\n",
       "      <th></th>\n",
       "      <th>Player</th>\n",
       "      <th>Team</th>\n",
       "      <th>2017-18</th>\n",
       "      <th>2018-19</th>\n",
       "      <th>2019-20</th>\n",
       "      <th>2020-21</th>\n",
       "      <th>2021-22</th>\n",
       "      <th>2022-23</th>\n",
       "      <th>Signed Using</th>\n",
       "      <th>Guaranteed</th>\n",
       "    </tr>\n",
       "  </thead>\n",
       "  <tbody>\n",
       "    <tr>\n",
       "      <th>0</th>\n",
       "      <td>LeBron James</td>\n",
       "      <td>CLE</td>\n",
       "      <td>$33,285,709</td>\n",
       "      <td>$35,607,968</td>\n",
       "      <td>NaN</td>\n",
       "      <td>NaN</td>\n",
       "      <td>NaN</td>\n",
       "      <td>NaN</td>\n",
       "      <td>Early Bird</td>\n",
       "      <td>$33,285,709</td>\n",
       "    </tr>\n",
       "    <tr>\n",
       "      <th>1</th>\n",
       "      <td>Kevin Love</td>\n",
       "      <td>CLE</td>\n",
       "      <td>$22,642,350</td>\n",
       "      <td>$24,119,025</td>\n",
       "      <td>$25,595,700</td>\n",
       "      <td>NaN</td>\n",
       "      <td>NaN</td>\n",
       "      <td>NaN</td>\n",
       "      <td>Bird Rights</td>\n",
       "      <td>$46,761,375</td>\n",
       "    </tr>\n",
       "    <tr>\n",
       "      <th>2</th>\n",
       "      <td>Tristan Thompson</td>\n",
       "      <td>CLE</td>\n",
       "      <td>$16,400,000</td>\n",
       "      <td>$17,469,565</td>\n",
       "      <td>$18,539,130</td>\n",
       "      <td>NaN</td>\n",
       "      <td>NaN</td>\n",
       "      <td>NaN</td>\n",
       "      <td>Bird Rights</td>\n",
       "      <td>$52,408,695</td>\n",
       "    </tr>\n",
       "    <tr>\n",
       "      <th>3</th>\n",
       "      <td>J.R. Smith</td>\n",
       "      <td>CLE</td>\n",
       "      <td>$13,760,000</td>\n",
       "      <td>$14,720,000</td>\n",
       "      <td>$15,680,000</td>\n",
       "      <td>NaN</td>\n",
       "      <td>NaN</td>\n",
       "      <td>NaN</td>\n",
       "      <td>Bird Rights</td>\n",
       "      <td>$32,350,000</td>\n",
       "    </tr>\n",
       "    <tr>\n",
       "      <th>4</th>\n",
       "      <td>Iman Shumpert</td>\n",
       "      <td>CLE</td>\n",
       "      <td>$10,337,079</td>\n",
       "      <td>$11,011,234</td>\n",
       "      <td>NaN</td>\n",
       "      <td>NaN</td>\n",
       "      <td>NaN</td>\n",
       "      <td>NaN</td>\n",
       "      <td>Bird Rights</td>\n",
       "      <td>$10,337,079</td>\n",
       "    </tr>\n",
       "  </tbody>\n",
       "</table>\n",
       "</div>"
      ],
      "text/plain": [
       "             Player Team       2017-18       2018-19       2019-20 2020-21  \\\n",
       "0      LeBron James  CLE  $33,285,709   $35,607,968            NaN     NaN   \n",
       "1        Kevin Love  CLE  $22,642,350   $24,119,025   $25,595,700      NaN   \n",
       "2  Tristan Thompson  CLE  $16,400,000   $17,469,565   $18,539,130      NaN   \n",
       "3        J.R. Smith  CLE  $13,760,000   $14,720,000   $15,680,000      NaN   \n",
       "4     Iman Shumpert  CLE  $10,337,079   $11,011,234            NaN     NaN   \n",
       "\n",
       "  2021-22 2022-23 Signed Using    Guaranteed  \n",
       "0     NaN     NaN   Early Bird  $33,285,709   \n",
       "1     NaN     NaN  Bird Rights  $46,761,375   \n",
       "2     NaN     NaN  Bird Rights  $52,408,695   \n",
       "3     NaN     NaN  Bird Rights  $32,350,000   \n",
       "4     NaN     NaN  Bird Rights  $10,337,079   "
      ]
     },
     "execution_count": 9,
     "metadata": {},
     "output_type": "execute_result"
    }
   ],
   "source": [
    "nba_sal = pd.read_csv('scraped_data/nba_salaries/salaries_current.csv')\n",
    "nba_sal.head()"
   ]
  },
  {
   "cell_type": "code",
   "execution_count": null,
   "metadata": {
    "collapsed": true
   },
   "outputs": [],
   "source": []
  }
 ],
 "metadata": {
  "kernelspec": {
   "display_name": "Python 3",
   "language": "python",
   "name": "python3"
  },
  "language_info": {
   "codemirror_mode": {
    "name": "ipython",
    "version": 3
   },
   "file_extension": ".py",
   "mimetype": "text/x-python",
   "name": "python",
   "nbconvert_exporter": "python",
   "pygments_lexer": "ipython3",
   "version": "3.5.2"
  }
 },
 "nbformat": 4,
 "nbformat_minor": 2
}
