{
 "cells": [
  {
   "cell_type": "markdown",
   "metadata": {},
   "source": [
    "## Webscraping for draft table\n",
    "\n",
    "The code below uses BeautifulSoup to get draft data from 1966 to 2017. As opposed to scraping for the player tables, this one didn't require as many functions and so I ended up not using any python scripts for this one. All the scraping is conducted in this notebook"
   ]
  },
  {
   "cell_type": "code",
   "execution_count": 1,
   "metadata": {
    "collapsed": true
   },
   "outputs": [],
   "source": [
    "import pandas as pd\n",
    "import numpy as np\n",
    "import requests\n",
    "from bs4 import BeautifulSoup\n",
    "import re"
   ]
  },
  {
   "cell_type": "code",
   "execution_count": 2,
   "metadata": {
    "collapsed": true
   },
   "outputs": [],
   "source": [
    "def SoupFromURL(url, suppressOutput=True):\n",
    "    if not suppressOutput:\n",
    "        print(url)\n",
    "    try:\n",
    "        r = requests.get(url)\n",
    "    except:\n",
    "        return None\n",
    "\n",
    "    return BeautifulSoup(r.text, \"html5lib\")"
   ]
  },
  {
   "cell_type": "markdown",
   "metadata": {},
   "source": [
    "### Scraping the NBA draft pages\n",
    "\n",
    "Code below scraped with beautifulsoup to get all draft player information"
   ]
  },
  {
   "cell_type": "code",
   "execution_count": 3,
   "metadata": {},
   "outputs": [
    {
     "data": {
      "text/html": [
       "<div>\n",
       "<table border=\"1\" class=\"dataframe\">\n",
       "  <thead>\n",
       "    <tr style=\"text-align: right;\">\n",
       "      <th></th>\n",
       "      <th>Pk</th>\n",
       "      <th>Tm</th>\n",
       "      <th>Player</th>\n",
       "      <th>College</th>\n",
       "      <th>Yrs</th>\n",
       "      <th>G</th>\n",
       "      <th>MP</th>\n",
       "      <th>PTS</th>\n",
       "      <th>TRB</th>\n",
       "      <th>AST</th>\n",
       "      <th>...</th>\n",
       "      <th>3P%</th>\n",
       "      <th>FT%</th>\n",
       "      <th>MP</th>\n",
       "      <th>PTS</th>\n",
       "      <th>TRB</th>\n",
       "      <th>AST</th>\n",
       "      <th>WS</th>\n",
       "      <th>WS/48</th>\n",
       "      <th>BPM</th>\n",
       "      <th>VORP</th>\n",
       "    </tr>\n",
       "  </thead>\n",
       "  <tbody>\n",
       "    <tr>\n",
       "      <th>0</th>\n",
       "      <td>1</td>\n",
       "      <td>CLE</td>\n",
       "      <td>Andrew Wiggins</td>\n",
       "      <td>University of Kansas</td>\n",
       "      <td>3</td>\n",
       "      <td>245</td>\n",
       "      <td>8862</td>\n",
       "      <td>4995</td>\n",
       "      <td>993</td>\n",
       "      <td>523</td>\n",
       "      <td>...</td>\n",
       "      <td>.329</td>\n",
       "      <td>.760</td>\n",
       "      <td>36.2</td>\n",
       "      <td>20.4</td>\n",
       "      <td>4.1</td>\n",
       "      <td>2.1</td>\n",
       "      <td>10.3</td>\n",
       "      <td>.056</td>\n",
       "      <td>-2.4</td>\n",
       "      <td>-0.8</td>\n",
       "    </tr>\n",
       "    <tr>\n",
       "      <th>1</th>\n",
       "      <td>2</td>\n",
       "      <td>MIL</td>\n",
       "      <td>Jabari Parker</td>\n",
       "      <td>Duke University</td>\n",
       "      <td>3</td>\n",
       "      <td>152</td>\n",
       "      <td>4874</td>\n",
       "      <td>2403</td>\n",
       "      <td>847</td>\n",
       "      <td>314</td>\n",
       "      <td>...</td>\n",
       "      <td>.341</td>\n",
       "      <td>.748</td>\n",
       "      <td>32.1</td>\n",
       "      <td>15.8</td>\n",
       "      <td>5.6</td>\n",
       "      <td>2.1</td>\n",
       "      <td>9.0</td>\n",
       "      <td>.088</td>\n",
       "      <td>-1.3</td>\n",
       "      <td>0.9</td>\n",
       "    </tr>\n",
       "    <tr>\n",
       "      <th>2</th>\n",
       "      <td>3</td>\n",
       "      <td>PHI</td>\n",
       "      <td>Joel Embiid</td>\n",
       "      <td>University of Kansas</td>\n",
       "      <td>1</td>\n",
       "      <td>31</td>\n",
       "      <td>786</td>\n",
       "      <td>627</td>\n",
       "      <td>243</td>\n",
       "      <td>66</td>\n",
       "      <td>...</td>\n",
       "      <td>.367</td>\n",
       "      <td>.783</td>\n",
       "      <td>25.4</td>\n",
       "      <td>20.2</td>\n",
       "      <td>7.8</td>\n",
       "      <td>2.1</td>\n",
       "      <td>1.9</td>\n",
       "      <td>.117</td>\n",
       "      <td>3.1</td>\n",
       "      <td>1.0</td>\n",
       "    </tr>\n",
       "    <tr>\n",
       "      <th>3</th>\n",
       "      <td>4</td>\n",
       "      <td>ORL</td>\n",
       "      <td>Aaron Gordon</td>\n",
       "      <td>University of Arizona</td>\n",
       "      <td>3</td>\n",
       "      <td>205</td>\n",
       "      <td>4958</td>\n",
       "      <td>1981</td>\n",
       "      <td>1081</td>\n",
       "      <td>311</td>\n",
       "      <td>...</td>\n",
       "      <td>.289</td>\n",
       "      <td>.699</td>\n",
       "      <td>24.2</td>\n",
       "      <td>9.7</td>\n",
       "      <td>5.3</td>\n",
       "      <td>1.5</td>\n",
       "      <td>10.1</td>\n",
       "      <td>.098</td>\n",
       "      <td>-0.1</td>\n",
       "      <td>2.4</td>\n",
       "    </tr>\n",
       "    <tr>\n",
       "      <th>4</th>\n",
       "      <td>5</td>\n",
       "      <td>UTA</td>\n",
       "      <td>Dante Exum</td>\n",
       "      <td></td>\n",
       "      <td>2</td>\n",
       "      <td>148</td>\n",
       "      <td>3045</td>\n",
       "      <td>805</td>\n",
       "      <td>263</td>\n",
       "      <td>309</td>\n",
       "      <td>...</td>\n",
       "      <td>.308</td>\n",
       "      <td>.743</td>\n",
       "      <td>20.6</td>\n",
       "      <td>5.4</td>\n",
       "      <td>1.8</td>\n",
       "      <td>2.1</td>\n",
       "      <td>1.1</td>\n",
       "      <td>.017</td>\n",
       "      <td>-3.3</td>\n",
       "      <td>-1.0</td>\n",
       "    </tr>\n",
       "  </tbody>\n",
       "</table>\n",
       "<p>5 rows × 21 columns</p>\n",
       "</div>"
      ],
      "text/plain": [
       "  Pk   Tm          Player                College Yrs    G    MP   PTS   TRB  \\\n",
       "0  1  CLE  Andrew Wiggins   University of Kansas   3  245  8862  4995   993   \n",
       "1  2  MIL   Jabari Parker        Duke University   3  152  4874  2403   847   \n",
       "2  3  PHI     Joel Embiid   University of Kansas   1   31   786   627   243   \n",
       "3  4  ORL    Aaron Gordon  University of Arizona   3  205  4958  1981  1081   \n",
       "4  5  UTA      Dante Exum                          2  148  3045   805   263   \n",
       "\n",
       "   AST  ...    3P%   FT%    MP   PTS  TRB  AST    WS WS/48   BPM  VORP  \n",
       "0  523  ...   .329  .760  36.2  20.4  4.1  2.1  10.3  .056  -2.4  -0.8  \n",
       "1  314  ...   .341  .748  32.1  15.8  5.6  2.1   9.0  .088  -1.3   0.9  \n",
       "2   66  ...   .367  .783  25.4  20.2  7.8  2.1   1.9  .117   3.1   1.0  \n",
       "3  311  ...   .289  .699  24.2   9.7  5.3  1.5  10.1  .098  -0.1   2.4  \n",
       "4  309  ...   .308  .743  20.6   5.4  1.8  2.1   1.1  .017  -3.3  -1.0  \n",
       "\n",
       "[5 rows x 21 columns]"
      ]
     },
     "execution_count": 3,
     "metadata": {},
     "output_type": "execute_result"
    }
   ],
   "source": [
    "soup = SoupFromURL('http://www.basketball-reference.com/draft/NBA_2014.html')\n",
    "column_headers = [th.getText() for th in soup.findAll('tr', limit=2)[1].findAll('th')]\n",
    "column_headers.remove(column_headers[0])\n",
    "\n",
    "data_rows = soup.findAll('tr')[2:]\n",
    "player_data = [[td.getText() for td in data_rows[i].findAll('td')] for i in range(len(data_rows))]\n",
    "\n",
    "df = pd.DataFrame(player_data, columns=column_headers)\n",
    "df.head()"
   ]
  },
  {
   "cell_type": "markdown",
   "metadata": {},
   "source": [
    "### Data Cleaning\n",
    "\n",
    "Now that we have all the data, we can conduct some data cleaning. Here are some things we need to do with this data:\n",
    "\n",
    "    - Get rid of a couple of rows (that were header rows) that contain only NoneType values\n",
    "    - Rename some of the columns\n",
    "    - Change to proper data types\n",
    "    - Deal with some more missing values\n",
    "    - Add column for draft year"
   ]
  },
  {
   "cell_type": "markdown",
   "metadata": {},
   "source": [
    "#### Null picks\n",
    "Now lets find the rows containing NoneType values. To do this we can use pandas boolean indexing. We can find the the rows we want by calling isnull() method (which return True if there is a NoneType or NaN) from the 'Pk' column. If 'Pk' value is missing then there isn't a draft pick in that row so we can get rid of that row."
   ]
  },
  {
   "cell_type": "code",
   "execution_count": 4,
   "metadata": {
    "collapsed": true
   },
   "outputs": [],
   "source": [
    "# Finding the None rows\n",
    "df[df['Pk'].isnull()]\n",
    "df = df[df.Player.notnull()]"
   ]
  },
  {
   "cell_type": "markdown",
   "metadata": {},
   "source": [
    "Now no more missing values"
   ]
  },
  {
   "cell_type": "code",
   "execution_count": 5,
   "metadata": {},
   "outputs": [
    {
     "data": {
      "text/html": [
       "<div>\n",
       "<table border=\"1\" class=\"dataframe\">\n",
       "  <thead>\n",
       "    <tr style=\"text-align: right;\">\n",
       "      <th></th>\n",
       "      <th>Pk</th>\n",
       "      <th>Tm</th>\n",
       "      <th>Player</th>\n",
       "      <th>College</th>\n",
       "      <th>Yrs</th>\n",
       "      <th>G</th>\n",
       "      <th>MP</th>\n",
       "      <th>PTS</th>\n",
       "      <th>TRB</th>\n",
       "      <th>AST</th>\n",
       "      <th>...</th>\n",
       "      <th>3P%</th>\n",
       "      <th>FT%</th>\n",
       "      <th>MP</th>\n",
       "      <th>PTS</th>\n",
       "      <th>TRB</th>\n",
       "      <th>AST</th>\n",
       "      <th>WS</th>\n",
       "      <th>WS/48</th>\n",
       "      <th>BPM</th>\n",
       "      <th>VORP</th>\n",
       "    </tr>\n",
       "  </thead>\n",
       "  <tbody>\n",
       "  </tbody>\n",
       "</table>\n",
       "<p>0 rows × 21 columns</p>\n",
       "</div>"
      ],
      "text/plain": [
       "Empty DataFrame\n",
       "Columns: [Pk, Tm, Player, College, Yrs, G, MP, PTS, TRB, AST, FG%, 3P%, FT%, MP, PTS, TRB, AST, WS, WS/48, BPM, VORP]\n",
       "Index: []\n",
       "\n",
       "[0 rows x 21 columns]"
      ]
     },
     "execution_count": 5,
     "metadata": {},
     "output_type": "execute_result"
    }
   ],
   "source": [
    "df[df['Pk'].isnull()]"
   ]
  },
  {
   "cell_type": "markdown",
   "metadata": {},
   "source": [
    "#### Renaming Columns\n",
    "\n",
    "We should rename some of the columns since Python is not happy with having '%' or '/' in identifiers."
   ]
  },
  {
   "cell_type": "code",
   "execution_count": 6,
   "metadata": {},
   "outputs": [
    {
     "name": "stdout",
     "output_type": "stream",
     "text": [
      "Index(['Pk', 'Tm', 'Player', 'College', 'Yrs', 'G', 'MP', 'PTS', 'TRB', 'AST',\n",
      "       'FG_Perc', '3P_Perc', 'FT_Perc', 'MP', 'PTS_per_G', 'TRB_per_G',\n",
      "       'AST_per_G', 'WS_per_G', 'WS_per_48', 'BPM', 'VORP'],\n",
      "      dtype='object')\n"
     ]
    }
   ],
   "source": [
    "df.rename(columns={'WS/48':'WS_per_48'}, inplace=True)\n",
    "df.columns = df.columns.str.replace('%', '_Perc')\n",
    "\n",
    "#We also need to differentiate between per game stats and total cumulative career stats.\n",
    "df.columns.values[14:18] = [df.columns.values[14:18][col] + \"_per_G\" for col in range(4)]\n",
    "print(df.columns)"
   ]
  },
  {
   "cell_type": "markdown",
   "metadata": {},
   "source": [
    "#### Change Data to Proper Data Type\n",
    "\n",
    "These are all object types so need to change to proper types"
   ]
  },
  {
   "cell_type": "code",
   "execution_count": 7,
   "metadata": {},
   "outputs": [
    {
     "data": {
      "text/plain": [
       "Pk           object\n",
       "Tm           object\n",
       "Player       object\n",
       "College      object\n",
       "Yrs          object\n",
       "G            object\n",
       "MP           object\n",
       "PTS          object\n",
       "TRB          object\n",
       "AST          object\n",
       "FG_Perc      object\n",
       "3P_Perc      object\n",
       "FT_Perc      object\n",
       "MP           object\n",
       "PTS_per_G    object\n",
       "TRB_per_G    object\n",
       "AST_per_G    object\n",
       "WS_per_G     object\n",
       "WS_per_48    object\n",
       "BPM          object\n",
       "VORP         object\n",
       "dtype: object"
      ]
     },
     "execution_count": 7,
     "metadata": {},
     "output_type": "execute_result"
    }
   ],
   "source": [
    "df.dtypes"
   ]
  },
  {
   "cell_type": "code",
   "execution_count": 8,
   "metadata": {},
   "outputs": [
    {
     "name": "stderr",
     "output_type": "stream",
     "text": [
      "/opt/conda/lib/python3.5/site-packages/ipykernel_launcher.py:1: FutureWarning: convert_objects is deprecated.  Use the data-type specific converters pd.to_datetime, pd.to_timedelta and pd.to_numeric.\n",
      "  \"\"\"Entry point for launching an IPython kernel.\n"
     ]
    },
    {
     "data": {
      "text/html": [
       "<div>\n",
       "<table border=\"1\" class=\"dataframe\">\n",
       "  <thead>\n",
       "    <tr style=\"text-align: right;\">\n",
       "      <th></th>\n",
       "      <th>Pk</th>\n",
       "      <th>Tm</th>\n",
       "      <th>Player</th>\n",
       "      <th>College</th>\n",
       "      <th>Yrs</th>\n",
       "      <th>G</th>\n",
       "      <th>MP</th>\n",
       "      <th>PTS</th>\n",
       "      <th>TRB</th>\n",
       "      <th>AST</th>\n",
       "      <th>...</th>\n",
       "      <th>3P_Perc</th>\n",
       "      <th>FT_Perc</th>\n",
       "      <th>MP</th>\n",
       "      <th>PTS_per_G</th>\n",
       "      <th>TRB_per_G</th>\n",
       "      <th>AST_per_G</th>\n",
       "      <th>WS_per_G</th>\n",
       "      <th>WS_per_48</th>\n",
       "      <th>BPM</th>\n",
       "      <th>VORP</th>\n",
       "    </tr>\n",
       "  </thead>\n",
       "  <tbody>\n",
       "    <tr>\n",
       "      <th>0</th>\n",
       "      <td>1</td>\n",
       "      <td>CLE</td>\n",
       "      <td>Andrew Wiggins</td>\n",
       "      <td>University of Kansas</td>\n",
       "      <td>3</td>\n",
       "      <td>245</td>\n",
       "      <td>8862</td>\n",
       "      <td>4995</td>\n",
       "      <td>993</td>\n",
       "      <td>523</td>\n",
       "      <td>...</td>\n",
       "      <td>0.329</td>\n",
       "      <td>0.760</td>\n",
       "      <td>8862</td>\n",
       "      <td>20.4</td>\n",
       "      <td>4.1</td>\n",
       "      <td>2.1</td>\n",
       "      <td>10.3</td>\n",
       "      <td>0.056</td>\n",
       "      <td>-2.4</td>\n",
       "      <td>-0.8</td>\n",
       "    </tr>\n",
       "    <tr>\n",
       "      <th>1</th>\n",
       "      <td>2</td>\n",
       "      <td>MIL</td>\n",
       "      <td>Jabari Parker</td>\n",
       "      <td>Duke University</td>\n",
       "      <td>3</td>\n",
       "      <td>152</td>\n",
       "      <td>4874</td>\n",
       "      <td>2403</td>\n",
       "      <td>847</td>\n",
       "      <td>314</td>\n",
       "      <td>...</td>\n",
       "      <td>0.341</td>\n",
       "      <td>0.748</td>\n",
       "      <td>4874</td>\n",
       "      <td>15.8</td>\n",
       "      <td>5.6</td>\n",
       "      <td>2.1</td>\n",
       "      <td>9.0</td>\n",
       "      <td>0.088</td>\n",
       "      <td>-1.3</td>\n",
       "      <td>0.9</td>\n",
       "    </tr>\n",
       "    <tr>\n",
       "      <th>2</th>\n",
       "      <td>3</td>\n",
       "      <td>PHI</td>\n",
       "      <td>Joel Embiid</td>\n",
       "      <td>University of Kansas</td>\n",
       "      <td>1</td>\n",
       "      <td>31</td>\n",
       "      <td>786</td>\n",
       "      <td>627</td>\n",
       "      <td>243</td>\n",
       "      <td>66</td>\n",
       "      <td>...</td>\n",
       "      <td>0.367</td>\n",
       "      <td>0.783</td>\n",
       "      <td>786</td>\n",
       "      <td>20.2</td>\n",
       "      <td>7.8</td>\n",
       "      <td>2.1</td>\n",
       "      <td>1.9</td>\n",
       "      <td>0.117</td>\n",
       "      <td>3.1</td>\n",
       "      <td>1.0</td>\n",
       "    </tr>\n",
       "    <tr>\n",
       "      <th>3</th>\n",
       "      <td>4</td>\n",
       "      <td>ORL</td>\n",
       "      <td>Aaron Gordon</td>\n",
       "      <td>University of Arizona</td>\n",
       "      <td>3</td>\n",
       "      <td>205</td>\n",
       "      <td>4958</td>\n",
       "      <td>1981</td>\n",
       "      <td>1081</td>\n",
       "      <td>311</td>\n",
       "      <td>...</td>\n",
       "      <td>0.289</td>\n",
       "      <td>0.699</td>\n",
       "      <td>4958</td>\n",
       "      <td>9.7</td>\n",
       "      <td>5.3</td>\n",
       "      <td>1.5</td>\n",
       "      <td>10.1</td>\n",
       "      <td>0.098</td>\n",
       "      <td>-0.1</td>\n",
       "      <td>2.4</td>\n",
       "    </tr>\n",
       "    <tr>\n",
       "      <th>4</th>\n",
       "      <td>5</td>\n",
       "      <td>UTA</td>\n",
       "      <td>Dante Exum</td>\n",
       "      <td></td>\n",
       "      <td>2</td>\n",
       "      <td>148</td>\n",
       "      <td>3045</td>\n",
       "      <td>805</td>\n",
       "      <td>263</td>\n",
       "      <td>309</td>\n",
       "      <td>...</td>\n",
       "      <td>0.308</td>\n",
       "      <td>0.743</td>\n",
       "      <td>3045</td>\n",
       "      <td>5.4</td>\n",
       "      <td>1.8</td>\n",
       "      <td>2.1</td>\n",
       "      <td>1.1</td>\n",
       "      <td>0.017</td>\n",
       "      <td>-3.3</td>\n",
       "      <td>-1.0</td>\n",
       "    </tr>\n",
       "  </tbody>\n",
       "</table>\n",
       "<p>5 rows × 21 columns</p>\n",
       "</div>"
      ],
      "text/plain": [
       "   Pk   Tm          Player                College  Yrs    G    MP   PTS   TRB  \\\n",
       "0   1  CLE  Andrew Wiggins   University of Kansas    3  245  8862  4995   993   \n",
       "1   2  MIL   Jabari Parker        Duke University    3  152  4874  2403   847   \n",
       "2   3  PHI     Joel Embiid   University of Kansas    1   31   786   627   243   \n",
       "3   4  ORL    Aaron Gordon  University of Arizona    3  205  4958  1981  1081   \n",
       "4   5  UTA      Dante Exum                           2  148  3045   805   263   \n",
       "\n",
       "   AST  ...   3P_Perc  FT_Perc    MP  PTS_per_G  TRB_per_G  AST_per_G  \\\n",
       "0  523  ...     0.329    0.760  8862       20.4        4.1        2.1   \n",
       "1  314  ...     0.341    0.748  4874       15.8        5.6        2.1   \n",
       "2   66  ...     0.367    0.783   786       20.2        7.8        2.1   \n",
       "3  311  ...     0.289    0.699  4958        9.7        5.3        1.5   \n",
       "4  309  ...     0.308    0.743  3045        5.4        1.8        2.1   \n",
       "\n",
       "   WS_per_G  WS_per_48  BPM  VORP  \n",
       "0      10.3      0.056 -2.4  -0.8  \n",
       "1       9.0      0.088 -1.3   0.9  \n",
       "2       1.9      0.117  3.1   1.0  \n",
       "3      10.1      0.098 -0.1   2.4  \n",
       "4       1.1      0.017 -3.3  -1.0  \n",
       "\n",
       "[5 rows x 21 columns]"
      ]
     },
     "execution_count": 8,
     "metadata": {},
     "output_type": "execute_result"
    }
   ],
   "source": [
    "df = df.convert_objects(convert_numeric=True)\n",
    "df = df[:].fillna(0) # index all the columns and fill in the 0s\n",
    "df.loc[:,'Yrs':'AST'] = df.loc[:,'Yrs':'AST'].astype(int)\n",
    "df.head()"
   ]
  },
  {
   "cell_type": "code",
   "execution_count": 9,
   "metadata": {},
   "outputs": [
    {
     "data": {
      "text/plain": [
       "Pk             int64\n",
       "Tm            object\n",
       "Player        object\n",
       "College       object\n",
       "Yrs            int64\n",
       "G              int64\n",
       "MP             int64\n",
       "PTS            int64\n",
       "TRB            int64\n",
       "AST            int64\n",
       "FG_Perc      float64\n",
       "3P_Perc      float64\n",
       "FT_Perc      float64\n",
       "MP             int64\n",
       "PTS_per_G    float64\n",
       "TRB_per_G    float64\n",
       "AST_per_G    float64\n",
       "WS_per_G     float64\n",
       "WS_per_48    float64\n",
       "BPM          float64\n",
       "VORP         float64\n",
       "dtype: object"
      ]
     },
     "execution_count": 9,
     "metadata": {},
     "output_type": "execute_result"
    }
   ],
   "source": [
    "df.dtypes"
   ]
  },
  {
   "cell_type": "markdown",
   "metadata": {},
   "source": [
    "#### Adding year column\n",
    "\n",
    "Now lets finally add a Draft_Yr column to indicate the draft class year."
   ]
  },
  {
   "cell_type": "code",
   "execution_count": 10,
   "metadata": {},
   "outputs": [
    {
     "data": {
      "text/html": [
       "<div>\n",
       "<table border=\"1\" class=\"dataframe\">\n",
       "  <thead>\n",
       "    <tr style=\"text-align: right;\">\n",
       "      <th></th>\n",
       "      <th>Draft_Yr</th>\n",
       "      <th>Pk</th>\n",
       "      <th>Tm</th>\n",
       "      <th>Player</th>\n",
       "      <th>College</th>\n",
       "      <th>Yrs</th>\n",
       "      <th>G</th>\n",
       "      <th>MP</th>\n",
       "      <th>PTS</th>\n",
       "      <th>TRB</th>\n",
       "      <th>...</th>\n",
       "      <th>3P_Perc</th>\n",
       "      <th>FT_Perc</th>\n",
       "      <th>MP</th>\n",
       "      <th>PTS_per_G</th>\n",
       "      <th>TRB_per_G</th>\n",
       "      <th>AST_per_G</th>\n",
       "      <th>WS_per_G</th>\n",
       "      <th>WS_per_48</th>\n",
       "      <th>BPM</th>\n",
       "      <th>VORP</th>\n",
       "    </tr>\n",
       "  </thead>\n",
       "  <tbody>\n",
       "    <tr>\n",
       "      <th>0</th>\n",
       "      <td>2014</td>\n",
       "      <td>1</td>\n",
       "      <td>CLE</td>\n",
       "      <td>Andrew Wiggins</td>\n",
       "      <td>University of Kansas</td>\n",
       "      <td>3</td>\n",
       "      <td>245</td>\n",
       "      <td>8862</td>\n",
       "      <td>4995</td>\n",
       "      <td>993</td>\n",
       "      <td>...</td>\n",
       "      <td>0.329</td>\n",
       "      <td>0.760</td>\n",
       "      <td>8862</td>\n",
       "      <td>20.4</td>\n",
       "      <td>4.1</td>\n",
       "      <td>2.1</td>\n",
       "      <td>10.3</td>\n",
       "      <td>0.056</td>\n",
       "      <td>-2.4</td>\n",
       "      <td>-0.8</td>\n",
       "    </tr>\n",
       "    <tr>\n",
       "      <th>1</th>\n",
       "      <td>2014</td>\n",
       "      <td>2</td>\n",
       "      <td>MIL</td>\n",
       "      <td>Jabari Parker</td>\n",
       "      <td>Duke University</td>\n",
       "      <td>3</td>\n",
       "      <td>152</td>\n",
       "      <td>4874</td>\n",
       "      <td>2403</td>\n",
       "      <td>847</td>\n",
       "      <td>...</td>\n",
       "      <td>0.341</td>\n",
       "      <td>0.748</td>\n",
       "      <td>4874</td>\n",
       "      <td>15.8</td>\n",
       "      <td>5.6</td>\n",
       "      <td>2.1</td>\n",
       "      <td>9.0</td>\n",
       "      <td>0.088</td>\n",
       "      <td>-1.3</td>\n",
       "      <td>0.9</td>\n",
       "    </tr>\n",
       "    <tr>\n",
       "      <th>2</th>\n",
       "      <td>2014</td>\n",
       "      <td>3</td>\n",
       "      <td>PHI</td>\n",
       "      <td>Joel Embiid</td>\n",
       "      <td>University of Kansas</td>\n",
       "      <td>1</td>\n",
       "      <td>31</td>\n",
       "      <td>786</td>\n",
       "      <td>627</td>\n",
       "      <td>243</td>\n",
       "      <td>...</td>\n",
       "      <td>0.367</td>\n",
       "      <td>0.783</td>\n",
       "      <td>786</td>\n",
       "      <td>20.2</td>\n",
       "      <td>7.8</td>\n",
       "      <td>2.1</td>\n",
       "      <td>1.9</td>\n",
       "      <td>0.117</td>\n",
       "      <td>3.1</td>\n",
       "      <td>1.0</td>\n",
       "    </tr>\n",
       "    <tr>\n",
       "      <th>3</th>\n",
       "      <td>2014</td>\n",
       "      <td>4</td>\n",
       "      <td>ORL</td>\n",
       "      <td>Aaron Gordon</td>\n",
       "      <td>University of Arizona</td>\n",
       "      <td>3</td>\n",
       "      <td>205</td>\n",
       "      <td>4958</td>\n",
       "      <td>1981</td>\n",
       "      <td>1081</td>\n",
       "      <td>...</td>\n",
       "      <td>0.289</td>\n",
       "      <td>0.699</td>\n",
       "      <td>4958</td>\n",
       "      <td>9.7</td>\n",
       "      <td>5.3</td>\n",
       "      <td>1.5</td>\n",
       "      <td>10.1</td>\n",
       "      <td>0.098</td>\n",
       "      <td>-0.1</td>\n",
       "      <td>2.4</td>\n",
       "    </tr>\n",
       "    <tr>\n",
       "      <th>4</th>\n",
       "      <td>2014</td>\n",
       "      <td>5</td>\n",
       "      <td>UTA</td>\n",
       "      <td>Dante Exum</td>\n",
       "      <td></td>\n",
       "      <td>2</td>\n",
       "      <td>148</td>\n",
       "      <td>3045</td>\n",
       "      <td>805</td>\n",
       "      <td>263</td>\n",
       "      <td>...</td>\n",
       "      <td>0.308</td>\n",
       "      <td>0.743</td>\n",
       "      <td>3045</td>\n",
       "      <td>5.4</td>\n",
       "      <td>1.8</td>\n",
       "      <td>2.1</td>\n",
       "      <td>1.1</td>\n",
       "      <td>0.017</td>\n",
       "      <td>-3.3</td>\n",
       "      <td>-1.0</td>\n",
       "    </tr>\n",
       "  </tbody>\n",
       "</table>\n",
       "<p>5 rows × 22 columns</p>\n",
       "</div>"
      ],
      "text/plain": [
       "   Draft_Yr  Pk   Tm          Player                College  Yrs    G    MP  \\\n",
       "0      2014   1  CLE  Andrew Wiggins   University of Kansas    3  245  8862   \n",
       "1      2014   2  MIL   Jabari Parker        Duke University    3  152  4874   \n",
       "2      2014   3  PHI     Joel Embiid   University of Kansas    1   31   786   \n",
       "3      2014   4  ORL    Aaron Gordon  University of Arizona    3  205  4958   \n",
       "4      2014   5  UTA      Dante Exum                           2  148  3045   \n",
       "\n",
       "    PTS   TRB  ...   3P_Perc  FT_Perc    MP  PTS_per_G  TRB_per_G  AST_per_G  \\\n",
       "0  4995   993  ...     0.329    0.760  8862       20.4        4.1        2.1   \n",
       "1  2403   847  ...     0.341    0.748  4874       15.8        5.6        2.1   \n",
       "2   627   243  ...     0.367    0.783   786       20.2        7.8        2.1   \n",
       "3  1981  1081  ...     0.289    0.699  4958        9.7        5.3        1.5   \n",
       "4   805   263  ...     0.308    0.743  3045        5.4        1.8        2.1   \n",
       "\n",
       "   WS_per_G  WS_per_48  BPM  VORP  \n",
       "0      10.3      0.056 -2.4  -0.8  \n",
       "1       9.0      0.088 -1.3   0.9  \n",
       "2       1.9      0.117  3.1   1.0  \n",
       "3      10.1      0.098 -0.1   2.4  \n",
       "4       1.1      0.017 -3.3  -1.0  \n",
       "\n",
       "[5 rows x 22 columns]"
      ]
     },
     "execution_count": 10,
     "metadata": {},
     "output_type": "execute_result"
    }
   ],
   "source": [
    "df.insert(0, 'Draft_Yr', 2014)\n",
    "df.head()"
   ]
  },
  {
   "cell_type": "markdown",
   "metadata": {},
   "source": [
    "#### Putting this altogether!\n",
    "\n",
    "Now let's put all of this together to get a full draft table"
   ]
  },
  {
   "cell_type": "code",
   "execution_count": 11,
   "metadata": {},
   "outputs": [
    {
     "name": "stderr",
     "output_type": "stream",
     "text": [
      "/opt/conda/lib/python3.5/site-packages/ipykernel_launcher.py:26: FutureWarning: convert_objects is deprecated.  Use the data-type specific converters pd.to_datetime, pd.to_timedelta and pd.to_numeric.\n"
     ]
    }
   ],
   "source": [
    "url_template = \"http://www.basketball-reference.com/draft/NBA_{year}.html\"\n",
    "draft_df = pd.DataFrame()\n",
    "\n",
    "for year in range(1966, 2017):  # for each year\n",
    "    url = url_template.format(year=year)  # get the url\n",
    "\n",
    "    soup = SoupFromURL(url) # create our BS object\n",
    "    \n",
    "    #column headers\n",
    "    column_headers = [th.getText() for th in soup.findAll('tr', limit=2)[1].findAll('th')]\n",
    "    column_headers.remove(column_headers[0])\n",
    "    \n",
    "    # get our player data\n",
    "    data_rows = soup.findAll('tr')[2:] \n",
    "    player_data = [[td.getText() for td in data_rows[i].findAll('td')] for i in range(len(data_rows))]\n",
    "    \n",
    "    # Turn yearly data into a DatFrame\n",
    "    year_df = pd.DataFrame(player_data, columns=column_headers)\n",
    "    # create and insert the Draft_Yr column\n",
    "    year_df.insert(0, 'Draft_Yr', year)\n",
    "    \n",
    "    # Append to the big dataframe\n",
    "    draft_df = draft_df.append(year_df, ignore_index=True)\n",
    "\n",
    "# Convert data to proper data types\n",
    "draft_df = draft_df.convert_objects(convert_numeric=True)\n",
    "\n",
    "# Get rid of the rows full of null values\n",
    "draft_df = draft_df[draft_df.Player.notnull()]\n",
    "\n",
    "# Replace NaNs with 0s\n",
    "draft_df = draft_df.fillna(0)\n",
    "\n",
    "# Rename Columns\n",
    "draft_df.rename(columns={'WS/48':'WS_per_48'}, inplace=True)\n",
    "# Change % symbol\n",
    "draft_df.columns = draft_df.columns.str.replace('%', '_Perc')\n",
    "# Add per_G to per game stats\n",
    "draft_df.columns.values[15:19] = [draft_df.columns.values[15:19][col] + \"_per_G\" for col in range(4)]\n",
    "\n",
    "# Changing the Data Types to int\n",
    "draft_df.loc[:,'Yrs':'AST'] = draft_df.loc[:,'Yrs':'AST'].astype(int)"
   ]
  },
  {
   "cell_type": "code",
   "execution_count": 12,
   "metadata": {},
   "outputs": [
    {
     "data": {
      "text/plain": [
       "(5988, 22)"
      ]
     },
     "execution_count": 12,
     "metadata": {},
     "output_type": "execute_result"
    }
   ],
   "source": [
    "draft_df.shape"
   ]
  },
  {
   "cell_type": "code",
   "execution_count": 13,
   "metadata": {},
   "outputs": [
    {
     "data": {
      "text/plain": [
       "Draft_Yr       int64\n",
       "Pk           float64\n",
       "Tm            object\n",
       "Player        object\n",
       "College       object\n",
       "Yrs            int64\n",
       "G              int64\n",
       "MP             int64\n",
       "PTS            int64\n",
       "TRB            int64\n",
       "AST            int64\n",
       "FG_Perc      float64\n",
       "3P_Perc      float64\n",
       "FT_Perc      float64\n",
       "MP             int64\n",
       "PTS_per_G    float64\n",
       "TRB_per_G    float64\n",
       "AST_per_G    float64\n",
       "WS_per_G     float64\n",
       "WS_per_48    float64\n",
       "BPM          float64\n",
       "VORP         float64\n",
       "dtype: object"
      ]
     },
     "execution_count": 13,
     "metadata": {},
     "output_type": "execute_result"
    }
   ],
   "source": [
    "draft_df.dtypes"
   ]
  },
  {
   "cell_type": "code",
   "execution_count": 14,
   "metadata": {},
   "outputs": [
    {
     "data": {
      "text/plain": [
       "Draft_Yr       int64\n",
       "Pk             int64\n",
       "Tm            object\n",
       "Player        object\n",
       "College       object\n",
       "Yrs            int64\n",
       "G              int64\n",
       "MP             int64\n",
       "PTS            int64\n",
       "TRB            int64\n",
       "AST            int64\n",
       "FG_Perc      float64\n",
       "3P_Perc      float64\n",
       "FT_Perc      float64\n",
       "MP             int64\n",
       "PTS_per_G    float64\n",
       "TRB_per_G    float64\n",
       "AST_per_G    float64\n",
       "WS_per_G     float64\n",
       "WS_per_48    float64\n",
       "BPM          float64\n",
       "VORP         float64\n",
       "dtype: object"
      ]
     },
     "execution_count": 14,
     "metadata": {},
     "output_type": "execute_result"
    }
   ],
   "source": [
    "draft_df['Pk'] = draft_df['Pk'].astype(int) # change Pk to int\n",
    "draft_df.dtypes"
   ]
  },
  {
   "cell_type": "code",
   "execution_count": 15,
   "metadata": {},
   "outputs": [
    {
     "data": {
      "text/plain": [
       "Draft_Yr     0\n",
       "Pk           0\n",
       "Tm           0\n",
       "Player       0\n",
       "College      0\n",
       "Yrs          0\n",
       "G            0\n",
       "MP           0\n",
       "PTS          0\n",
       "TRB          0\n",
       "AST          0\n",
       "FG_Perc      0\n",
       "3P_Perc      0\n",
       "FT_Perc      0\n",
       "MP           0\n",
       "PTS_per_G    0\n",
       "TRB_per_G    0\n",
       "AST_per_G    0\n",
       "WS_per_G     0\n",
       "WS_per_48    0\n",
       "BPM          0\n",
       "VORP         0\n",
       "dtype: int64"
      ]
     },
     "execution_count": 15,
     "metadata": {},
     "output_type": "execute_result"
    }
   ],
   "source": [
    "draft_df.isnull().sum() # No missing values in our DataFrame"
   ]
  },
  {
   "cell_type": "code",
   "execution_count": 16,
   "metadata": {
    "collapsed": true
   },
   "outputs": [],
   "source": [
    "draft_df.to_csv(\"scraped_data/draft_tables/draft_data_1966_to_2017.csv\",index=False)"
   ]
  },
  {
   "cell_type": "code",
   "execution_count": null,
   "metadata": {
    "collapsed": true
   },
   "outputs": [],
   "source": []
  }
 ],
 "metadata": {
  "kernelspec": {
   "display_name": "Python 3",
   "language": "python",
   "name": "python3"
  },
  "language_info": {
   "codemirror_mode": {
    "name": "ipython",
    "version": 3
   },
   "file_extension": ".py",
   "mimetype": "text/x-python",
   "name": "python",
   "nbconvert_exporter": "python",
   "pygments_lexer": "ipython3",
   "version": "3.5.2"
  }
 },
 "nbformat": 4,
 "nbformat_minor": 2
}
